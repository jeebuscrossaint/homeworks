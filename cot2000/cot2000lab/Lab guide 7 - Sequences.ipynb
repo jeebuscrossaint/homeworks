{
 "cells": [
  {
   "cell_type": "markdown",
   "id": "d73d3109-4554-44c9-9a3c-a09ac410883f",
   "metadata": {},
   "source": [
    "# Lab Practice - Sequences with Python\n",
    "\n",
    "## General Instructions\n",
    "\n",
    "### Objective:\n",
    "In this lab, you'll practice concepts like: sequences, summation notation, factorials, binomial coefficients, combinations, closed form formulas, and geometric sequences using python.\n",
    "\n",
    "### Attendance:\n",
    "Submit a file with your progress to Canvas to obtain attendance.\n",
    "\n",
    "### Use Lab Time Effectively:\n",
    "Utilize the time to focus on the tasks and seek clarification on any concepts you're unfamiliar with.\n",
    "\n",
    "### Consistent Practice:\n",
    "The key to mastering Python (or any programming language) is consistent practice and real-world application.\n"
   ]
  },
  {
   "cell_type": "code",
   "execution_count": null,
   "id": "43307d85-8d31-4fb2-8607-d53dace8c134",
   "metadata": {},
   "outputs": [],
   "source": []
  },
  {
   "cell_type": "markdown",
   "id": "41a3ecfa-7b08-490f-9d22-77df8443a823",
   "metadata": {
    "tags": []
   },
   "source": [
    "# 1. Sequences"
   ]
  },
  {
   "cell_type": "markdown",
   "id": "0995d57f-1ead-463a-b0e9-944c6c904f07",
   "metadata": {},
   "source": [
    "## 1.1. Even Numbers Sequence\n",
    "**Objective:** Create a sequence of even numbers from 2 to 20 using a for loop and print each number as you go.\n"
   ]
  },
  {
   "cell_type": "code",
   "execution_count": 8,
   "id": "6f6952cc-7868-4d8c-bcf5-adaf0ff4fbcc",
   "metadata": {},
   "outputs": [
    {
     "name": "stdout",
     "output_type": "stream",
     "text": [
      "2\n",
      "4\n",
      "6\n",
      "8\n",
      "10\n",
      "12\n",
      "14\n",
      "16\n",
      "18\n",
      "20\n"
     ]
    }
   ],
   "source": [
    "for i in range(2, 21, 2):\n",
    "    print(i)"
   ]
  },
  {
   "cell_type": "markdown",
   "id": "c63ea45d-763a-49da-92b6-49f60538f844",
   "metadata": {},
   "source": [
    "## 1.2. Odd Numbers Sequence\n",
    "**Objective:** Create a sequence of odd numbers from 1 to 19 using a for loop and print each number as you go."
   ]
  },
  {
   "cell_type": "code",
   "execution_count": 11,
   "id": "98c191e6-fc25-4c37-984a-0189f5549665",
   "metadata": {},
   "outputs": [
    {
     "name": "stdout",
     "output_type": "stream",
     "text": [
      "1\n",
      "3\n",
      "5\n",
      "7\n",
      "9\n",
      "11\n",
      "13\n",
      "15\n",
      "17\n",
      "19\n"
     ]
    }
   ],
   "source": [
    "for i in range(1, 20, 2):\n",
    "    print(i)"
   ]
  },
  {
   "cell_type": "markdown",
   "id": "1b33d3d1-5e7a-4a26-b496-bef84b66d2c0",
   "metadata": {},
   "source": [
    "## 1.3. Multiples of 5\n",
    "**Objective:** Create a sequence of multiples of 5 from 5 to 50 using a for loop and print each number as you go."
   ]
  },
  {
   "cell_type": "code",
   "execution_count": 14,
   "id": "3825bcf1-bbd5-4f85-a14b-ab9191d9ede4",
   "metadata": {},
   "outputs": [
    {
     "name": "stdout",
     "output_type": "stream",
     "text": [
      "5\n",
      "10\n",
      "15\n",
      "20\n",
      "25\n",
      "30\n",
      "35\n",
      "40\n",
      "45\n",
      "50\n"
     ]
    }
   ],
   "source": [
    "for i in range(5, 51, 5):\n",
    "    print(i)"
   ]
  },
  {
   "cell_type": "markdown",
   "id": "6ede2578-5d5e-4b8d-a204-25c71c393d71",
   "metadata": {},
   "source": [
    "## 1.4. Numbers Squared\n",
    "**Objective:** Create a sequence of the squares of numbers from 1 to 10 using a for loop and print each squared number as you go."
   ]
  },
  {
   "cell_type": "code",
   "execution_count": 17,
   "id": "82855682-f368-4c17-9b55-262a7a69c0b3",
   "metadata": {},
   "outputs": [
    {
     "name": "stdout",
     "output_type": "stream",
     "text": [
      "1\n",
      "4\n",
      "9\n",
      "16\n",
      "25\n",
      "36\n",
      "49\n",
      "64\n",
      "81\n",
      "100\n"
     ]
    }
   ],
   "source": [
    "for i in range(1, 11):\n",
    "    print(i**2)"
   ]
  },
  {
   "cell_type": "markdown",
   "id": "5a8c06c1-67f1-4c13-8f54-0dc3694a22d4",
   "metadata": {},
   "source": [
    "## 1.5. Additional Sequence\n",
    "**Objective:** Create and print the sequence \n",
    "$\\displaystyle a_k = \\frac{k}{10 + k} $, for all integers $ k \\geq 1 $ up to $ k = 10 $."
   ]
  },
  {
   "cell_type": "code",
   "execution_count": 21,
   "id": "26c11b22-953c-461b-b8bb-58e9d08e3049",
   "metadata": {},
   "outputs": [
    {
     "name": "stdout",
     "output_type": "stream",
     "text": [
      "a_1 = 0.09090909090909091\n",
      "a_2 = 0.16666666666666666\n",
      "a_3 = 0.23076923076923078\n",
      "a_4 = 0.2857142857142857\n",
      "a_5 = 0.3333333333333333\n",
      "a_6 = 0.375\n",
      "a_7 = 0.4117647058823529\n",
      "a_8 = 0.4444444444444444\n",
      "a_9 = 0.47368421052631576\n",
      "a_10 = 0.5\n"
     ]
    }
   ],
   "source": [
    "for k in range(1, 11):\n",
    "    a_k = k / (10 + k)\n",
    "    print(f\"a_{k} = {a_k}\")"
   ]
  },
  {
   "cell_type": "markdown",
   "id": "c67ac990-5851-4919-95eb-c3f13fe648c7",
   "metadata": {},
   "source": [
    "## 1.6. Additional Sequence\n",
    "**Objective:** Create and print the sequence $\\displaystyle b_j = \\frac{5 - j}{5 + j} $, for all integers $ j \\geq 1 $ up to $ j = 10 $."
   ]
  },
  {
   "cell_type": "code",
   "execution_count": 25,
   "id": "8818b16f-dd52-424a-8020-191cc4369c43",
   "metadata": {},
   "outputs": [
    {
     "name": "stdout",
     "output_type": "stream",
     "text": [
      "b_1 = 0.6666666666666666\n",
      "b_2 = 0.42857142857142855\n",
      "b_3 = 0.25\n",
      "b_4 = 0.1111111111111111\n",
      "b_5 = 0.0\n",
      "b_6 = -0.09090909090909091\n",
      "b_7 = -0.16666666666666666\n",
      "b_8 = -0.23076923076923078\n",
      "b_9 = -0.2857142857142857\n",
      "b_10 = -0.3333333333333333\n"
     ]
    }
   ],
   "source": [
    "for j in range(1, 11):\n",
    "    b_j = (5 - j) / (5 + j)\n",
    "    print(f\"b_{j} = {b_j}\")"
   ]
  },
  {
   "cell_type": "markdown",
   "id": "a67bc6ee-45ae-4d2f-8cab-94c7e3d33ad1",
   "metadata": {},
   "source": [
    "## 1.7. Additional Sequence\n",
    "**Objective:** Create and print the sequence $\\displaystyle c_i = \\frac{(-1)^i}{3^i} $, for all integers $ i \\geq 0 $ up to $ i = 10 $."
   ]
  },
  {
   "cell_type": "code",
   "execution_count": 34,
   "id": "72a484bb-5289-40d3-84d6-46bb961d6b37",
   "metadata": {},
   "outputs": [
    {
     "name": "stdout",
     "output_type": "stream",
     "text": [
      "c_0 = 1.0\n",
      "c_1 = -0.3333333333333333\n",
      "c_2 = 0.1111111111111111\n",
      "c_3 = -0.037037037037037035\n",
      "c_4 = 0.012345679012345678\n",
      "c_5 = -0.00411522633744856\n",
      "c_6 = 0.0013717421124828531\n",
      "c_7 = -0.0004572473708276177\n",
      "c_8 = 0.00015241579027587258\n",
      "c_9 = -5.080526342529086e-05\n",
      "c_10 = 1.6935087808430286e-05\n"
     ]
    }
   ],
   "source": [
    "for i in range(0, 11):\n",
    "    c_i = ((-1)**i) / (3**i)\n",
    "    print(f\"c_{i} = {c_i}\")"
   ]
  },
  {
   "cell_type": "markdown",
   "id": "569db930-0ec8-4b2d-981b-3723f04ee9cd",
   "metadata": {},
   "source": [
    "# 2. Sumation"
   ]
  },
  {
   "cell_type": "markdown",
   "id": "2222d825-efd3-4f90-927b-ff96f99a6f9e",
   "metadata": {},
   "source": [
    "### 2.1 Sum of Odd Numbers\n",
    "**Objective:** Calculate the sum of odd numbers from 1 to 19 using summation notation and a for loop."
   ]
  },
  {
   "cell_type": "code",
   "execution_count": 1,
   "id": "cb2a81f6-a5cb-4bc8-8d66-19e1d7a541bc",
   "metadata": {},
   "outputs": [
    {
     "name": "stdout",
     "output_type": "stream",
     "text": [
      "Sum after adding 1: 1\n",
      "Sum after adding 3: 4\n",
      "Sum after adding 5: 9\n",
      "Sum after adding 7: 16\n",
      "Sum after adding 9: 25\n",
      "Sum after adding 11: 36\n",
      "Sum after adding 13: 49\n",
      "Sum after adding 15: 64\n",
      "Sum after adding 17: 81\n",
      "Sum after adding 19: 100\n"
     ]
    }
   ],
   "source": [
    "sum_odd = 0\n",
    "for i in range(1, 20, 2):\n",
    "    sum_odd += i\n",
    "    print(f\"Sum after adding {i}: {sum_odd}\")"
   ]
  },
  {
   "cell_type": "markdown",
   "id": "c16af7c8-e709-4110-ab89-5876400c0608",
   "metadata": {},
   "source": [
    "### 2.2 Sum of Even Numbers\n",
    "**Objective:** Calculate the sum of even numbers from 2 to 20 using summation notation and a for loop.\n"
   ]
  },
  {
   "cell_type": "code",
   "execution_count": 4,
   "id": "5c8a6baf-47ed-4e0e-a098-646fa7e2873c",
   "metadata": {},
   "outputs": [
    {
     "name": "stdout",
     "output_type": "stream",
     "text": [
      "Sum after adding 2: 2\n",
      "Sum after adding 4: 6\n",
      "Sum after adding 6: 12\n",
      "Sum after adding 8: 20\n",
      "Sum after adding 10: 30\n",
      "Sum after adding 12: 42\n",
      "Sum after adding 14: 56\n",
      "Sum after adding 16: 72\n",
      "Sum after adding 18: 90\n",
      "Sum after adding 20: 110\n"
     ]
    }
   ],
   "source": [
    "sum_even = 0\n",
    "for i in range(2, 21, 2):\n",
    "    sum_even += i\n",
    "    print(f\"Sum after adding {i}: {sum_even}\")"
   ]
  },
  {
   "cell_type": "markdown",
   "id": "4ff24cb9-aa37-4b75-bc65-9f4c0050cf73",
   "metadata": {},
   "source": [
    "### 2.3 Sum of Squares\n",
    "**Objective:** Calculate the sum of squares of numbers from 1 to 10 using summation notation and a for loop.\n"
   ]
  },
  {
   "cell_type": "code",
   "execution_count": 7,
   "id": "03574540-bec9-4039-8d57-87b258725385",
   "metadata": {},
   "outputs": [
    {
     "name": "stdout",
     "output_type": "stream",
     "text": [
      "Sum after adding square of 1: 1\n",
      "Sum after adding square of 2: 5\n",
      "Sum after adding square of 3: 14\n",
      "Sum after adding square of 4: 30\n",
      "Sum after adding square of 5: 55\n",
      "Sum after adding square of 6: 91\n",
      "Sum after adding square of 7: 140\n",
      "Sum after adding square of 8: 204\n",
      "Sum after adding square of 9: 285\n",
      "Sum after adding square of 10: 385\n"
     ]
    }
   ],
   "source": [
    "sum_squares = 0\n",
    "for i in range(1, 11):\n",
    "    sum_squares += i**2\n",
    "    print(f\"Sum after adding square of {i}: {sum_squares}\")"
   ]
  },
  {
   "cell_type": "markdown",
   "id": "f321b4ef-66fe-40e9-9df8-b4b2a9005c27",
   "metadata": {},
   "source": [
    "### 2.4 Sum of Inverse Squares\n",
    "**Objective:** Calculate the sum of inverse squares of numbers from 1 to 10 using summation notation and a for loop.\n"
   ]
  },
  {
   "cell_type": "code",
   "execution_count": 10,
   "id": "4922c4c5-6818-4b8d-80b1-03052afcc49c",
   "metadata": {},
   "outputs": [
    {
     "name": "stdout",
     "output_type": "stream",
     "text": [
      "Sum after adding inverse square of 1: 1.0\n",
      "Sum after adding inverse square of 2: 1.25\n",
      "Sum after adding inverse square of 3: 1.3611111111111112\n",
      "Sum after adding inverse square of 4: 1.4236111111111112\n",
      "Sum after adding inverse square of 5: 1.4636111111111112\n",
      "Sum after adding inverse square of 6: 1.4913888888888889\n",
      "Sum after adding inverse square of 7: 1.511797052154195\n",
      "Sum after adding inverse square of 8: 1.527422052154195\n",
      "Sum after adding inverse square of 9: 1.5397677311665408\n",
      "Sum after adding inverse square of 10: 1.5497677311665408\n"
     ]
    }
   ],
   "source": [
    "sum_inv_squares = 0\n",
    "for i in range(1, 11):\n",
    "    sum_inv_squares += 1 / (i**2)\n",
    "    print(f\"Sum after adding inverse square of {i}: {sum_inv_squares}\")"
   ]
  },
  {
   "cell_type": "markdown",
   "id": "5964b059-cfbf-4f87-a7c0-3b0e74f36514",
   "metadata": {},
   "source": [
    "### 2.5 Sum of Reciprocals\n",
    "**Objective:** Calculate the sum of reciprocals of numbers from 1 to 10 using summation notation and a for loop.\n"
   ]
  },
  {
   "cell_type": "code",
   "execution_count": 13,
   "id": "4e05ec40-501a-459c-8b53-6a75417f9000",
   "metadata": {},
   "outputs": [
    {
     "name": "stdout",
     "output_type": "stream",
     "text": [
      "Sum after adding reciprocal of 1: 1.0\n",
      "Sum after adding reciprocal of 2: 1.5\n",
      "Sum after adding reciprocal of 3: 1.8333333333333333\n",
      "Sum after adding reciprocal of 4: 2.083333333333333\n",
      "Sum after adding reciprocal of 5: 2.283333333333333\n",
      "Sum after adding reciprocal of 6: 2.4499999999999997\n",
      "Sum after adding reciprocal of 7: 2.5928571428571425\n",
      "Sum after adding reciprocal of 8: 2.7178571428571425\n",
      "Sum after adding reciprocal of 9: 2.8289682539682537\n",
      "Sum after adding reciprocal of 10: 2.9289682539682538\n"
     ]
    }
   ],
   "source": [
    "sum_reciprocals = 0\n",
    "for i in range(1, 11):\n",
    "    sum_reciprocals += 1 / i\n",
    "    print(f\"Sum after adding reciprocal of {i}: {sum_reciprocals}\")"
   ]
  },
  {
   "cell_type": "markdown",
   "id": "98e0259e-8510-4d73-9d98-f3f20efb9b5c",
   "metadata": {},
   "source": [
    "# 3. Product"
   ]
  },
  {
   "cell_type": "markdown",
   "id": "09e56d41-b081-44db-b46a-1d29c052d74b",
   "metadata": {},
   "source": [
    "### 3.1 Product of Odd Numbers\n",
    "**Objective:** Calculate the product of odd numbers from 1 to 9 using multiplication notation and a for loop.\n"
   ]
  },
  {
   "cell_type": "code",
   "execution_count": 20,
   "id": "6627a46d-44ff-4c9b-95d7-ade83260fce2",
   "metadata": {},
   "outputs": [
    {
     "name": "stdout",
     "output_type": "stream",
     "text": [
      "Product after multiplying by 1: 1\n",
      "Product after multiplying by 3: 3\n",
      "Product after multiplying by 5: 15\n",
      "Product after multiplying by 7: 105\n",
      "Product after multiplying by 9: 945\n"
     ]
    }
   ],
   "source": [
    "product_odd = 1\n",
    "for i in range(1, 10, 2):\n",
    "    product_odd *= i\n",
    "    print(f\"Product after multiplying by {i}: {product_odd}\")"
   ]
  },
  {
   "cell_type": "markdown",
   "id": "7fadcab7-190b-4963-b20a-c114a48bb37c",
   "metadata": {},
   "source": [
    "### 3.2 Product of Even Numbers\n",
    "**Objective:** Calculate the product of even numbers from 2 to 10 using multiplication notation and a for loop.\n"
   ]
  },
  {
   "cell_type": "code",
   "execution_count": 23,
   "id": "4d3cb5fc-8386-4592-b2c3-8aec712dac9b",
   "metadata": {},
   "outputs": [
    {
     "name": "stdout",
     "output_type": "stream",
     "text": [
      "Product after multiplying by 2: 2\n",
      "Product after multiplying by 4: 8\n",
      "Product after multiplying by 6: 48\n",
      "Product after multiplying by 8: 384\n",
      "Product after multiplying by 10: 3840\n"
     ]
    }
   ],
   "source": [
    "product_even = 1\n",
    "for i in range(2, 11, 2):\n",
    "    product_even *= i\n",
    "    print(f\"Product after multiplying by {i}: {product_even}\")"
   ]
  },
  {
   "cell_type": "markdown",
   "id": "1a9da879-e9dc-4a33-83d5-1d3d20ca7e39",
   "metadata": {},
   "source": [
    "### 3.3 Product of Reciprocals\n",
    "**Objective:** Calculate the product of reciprocals of numbers from 1 to 5 using multiplication notation and a for loop.\n"
   ]
  },
  {
   "cell_type": "code",
   "execution_count": 26,
   "id": "3911ab76-d29f-4ced-baeb-78a01c718b7e",
   "metadata": {},
   "outputs": [
    {
     "name": "stdout",
     "output_type": "stream",
     "text": [
      "Product after multiplying by reciprocal of 1: 1.0\n",
      "Product after multiplying by reciprocal of 2: 0.5\n",
      "Product after multiplying by reciprocal of 3: 0.16666666666666666\n",
      "Product after multiplying by reciprocal of 4: 0.041666666666666664\n",
      "Product after multiplying by reciprocal of 5: 0.008333333333333333\n"
     ]
    }
   ],
   "source": [
    "product_reciprocals = 1\n",
    "for i in range(1, 6):\n",
    "    product_reciprocals *= 1 / i\n",
    "    print(f\"Product after multiplying by reciprocal of {i}: {product_reciprocals}\")\n"
   ]
  },
  {
   "cell_type": "markdown",
   "id": "cca9a243-ae81-4a24-838f-50a490ff1b2b",
   "metadata": {},
   "source": [
    "### 3.4 Product of Squares\n",
    "**Objective:** Calculate the product of squares of numbers from 1 to 4 using multiplication notation and a for loop.\n"
   ]
  },
  {
   "cell_type": "code",
   "execution_count": 29,
   "id": "a89dc84e-421a-46a7-beb2-ea7cfa8866cf",
   "metadata": {},
   "outputs": [
    {
     "name": "stdout",
     "output_type": "stream",
     "text": [
      "Product after multiplying by square of 1: 1\n",
      "Product after multiplying by square of 2: 4\n",
      "Product after multiplying by square of 3: 36\n",
      "Product after multiplying by square of 4: 576\n"
     ]
    }
   ],
   "source": [
    "product_squares = 1\n",
    "for i in range(1, 5):\n",
    "    product_squares *= i**2\n",
    "    print(f\"Product after multiplying by square of {i}: {product_squares}\")\n"
   ]
  },
  {
   "cell_type": "markdown",
   "id": "d9c5a28e-71e2-4edc-8986-21a6efe73ff2",
   "metadata": {},
   "source": [
    "### 3.5 Product of First N Natural Numbers\n",
    "**Objective:** Calculate the product of the first 5 natural numbers using multiplication notation and a for loop.\n"
   ]
  },
  {
   "cell_type": "code",
   "execution_count": 32,
   "id": "555d6865-95dd-46c9-91cd-9f80897fe1b7",
   "metadata": {},
   "outputs": [
    {
     "name": "stdout",
     "output_type": "stream",
     "text": [
      "Product after multiplying by 1: 1\n",
      "Product after multiplying by 2: 2\n",
      "Product after multiplying by 3: 6\n",
      "Product after multiplying by 4: 24\n",
      "Product after multiplying by 5: 120\n"
     ]
    }
   ],
   "source": [
    "product_natural = 1\n",
    "for i in range(1, 6):\n",
    "    product_natural *= i\n",
    "    print(f\"Product after multiplying by {i}: {product_natural}\")\n"
   ]
  },
  {
   "cell_type": "markdown",
   "id": "7cf0b946-444c-458b-86b8-c28b8d0694c7",
   "metadata": {},
   "source": [
    "# 4. Factorials"
   ]
  },
  {
   "cell_type": "markdown",
   "id": "31635503-9d8b-4b8d-8a4a-89a20c2202d7",
   "metadata": {},
   "source": [
    "### 4.1 Factorial of 5\n",
    "**Objective:** Write a function to calculate the factorial of 5.\n"
   ]
  },
  {
   "cell_type": "code",
   "execution_count": 37,
   "id": "b92433db-d23c-42d7-a20c-3a96169c29b5",
   "metadata": {},
   "outputs": [
    {
     "name": "stdout",
     "output_type": "stream",
     "text": [
      "Factorial of 5: 120\n"
     ]
    }
   ],
   "source": [
    "def factorial(n):\n",
    "    if n == 0:\n",
    "        return 1\n",
    "    else:\n",
    "        return n * factorial(n-1)\n",
    "\n",
    "print(f\"Factorial of 5: {factorial(5)}\")\n"
   ]
  },
  {
   "cell_type": "markdown",
   "id": "340fc151-776a-4f7c-8bdc-fbdb75956cfa",
   "metadata": {},
   "source": [
    "### 4.2 Factorial of 7\n",
    "**Objective:** Write a function to calculate the factorial of 7.\n"
   ]
  },
  {
   "cell_type": "code",
   "execution_count": 40,
   "id": "bae0d723-1254-4c59-9c94-b3fa87210a73",
   "metadata": {},
   "outputs": [
    {
     "name": "stdout",
     "output_type": "stream",
     "text": [
      "Factorial of 7: 5040\n"
     ]
    }
   ],
   "source": [
    "print(f\"Factorial of 7: {factorial(7)}\")"
   ]
  },
  {
   "cell_type": "markdown",
   "id": "61f2e942-d221-47e5-a522-2333acd2993d",
   "metadata": {},
   "source": [
    "### 4.3 Factorial of 0\n",
    "**Objective:** Write a function to calculate the factorial of 0.\n"
   ]
  },
  {
   "cell_type": "code",
   "execution_count": 45,
   "id": "e2a8df86-ba46-4941-8d2f-b8e954613361",
   "metadata": {},
   "outputs": [
    {
     "name": "stdout",
     "output_type": "stream",
     "text": [
      "Factorial of 0: 1\n"
     ]
    }
   ],
   "source": [
    "print(f\"Factorial of 0: {factorial(0)}\")"
   ]
  },
  {
   "cell_type": "markdown",
   "id": "4cf4248a-d7e1-4eb6-9244-1cd5d59da478",
   "metadata": {},
   "source": [
    "### 4.4 Factorial of 10\n",
    "**Objective:** Write a function to calculate the factorial of 10.\n"
   ]
  },
  {
   "cell_type": "code",
   "execution_count": 48,
   "id": "53a4748a-b220-4d65-be48-5d8ed6f85da6",
   "metadata": {},
   "outputs": [
    {
     "name": "stdout",
     "output_type": "stream",
     "text": [
      "Factorial of 10: 3628800\n"
     ]
    }
   ],
   "source": [
    "print(f\"Factorial of 10: {factorial(10)}\")\n"
   ]
  },
  {
   "cell_type": "markdown",
   "id": "c01d9896-24f9-46e6-91d9-29003b9ca628",
   "metadata": {},
   "source": [
    "### 4.5 Factorial Sequence\n",
    "**Objective:** Write a function to print the factorials of numbers from 1 to 5.\n"
   ]
  },
  {
   "cell_type": "code",
   "execution_count": 51,
   "id": "8771b4c7-cd9b-4792-aa96-bd790ea8f14c",
   "metadata": {},
   "outputs": [
    {
     "name": "stdout",
     "output_type": "stream",
     "text": [
      "Factorial of 1: 1\n",
      "Factorial of 2: 2\n",
      "Factorial of 3: 6\n",
      "Factorial of 4: 24\n",
      "Factorial of 5: 120\n"
     ]
    }
   ],
   "source": [
    "for i in range(1, 6):\n",
    "    print(f\"Factorial of {i}: {factorial(i)}\")\n"
   ]
  },
  {
   "cell_type": "markdown",
   "id": "bf842273-9219-44bc-9754-8f3107e72896",
   "metadata": {},
   "source": [
    "### 4.6 Sum of Special Series\n",
    "**Objective:** Calculate the sum of the series $\\displaystyle \\frac{1}{2!} + \\frac{2}{3!} + \\frac{3}{4!} + \\dots + \\frac{n}{(n+1)!}$ for $n = 5$.\n"
   ]
  },
  {
   "cell_type": "code",
   "execution_count": 55,
   "id": "a97e2c91-3813-4fb8-98f0-6abe310407e2",
   "metadata": {},
   "outputs": [
    {
     "name": "stdout",
     "output_type": "stream",
     "text": [
      "Sum of the series for n=5: 0.998611111111111\n"
     ]
    }
   ],
   "source": [
    "def special_series_sum(n):\n",
    "    total_sum = 0\n",
    "    for i in range(1, n + 1):\n",
    "        total_sum += i / factorial(i + 1)\n",
    "    return total_sum\n",
    "\n",
    "print(f\"Sum of the series for n=5: {special_series_sum(5)}\")"
   ]
  },
  {
   "cell_type": "markdown",
   "id": "f6610e14-dac5-4a41-8434-5bd1ba321ff9",
   "metadata": {},
   "source": [
    "# 5. Binomial Coefficient (n choose r)"
   ]
  },
  {
   "cell_type": "markdown",
   "id": "afb0cb54-5886-4ed3-8ff4-f4d07d3e3dee",
   "metadata": {},
   "source": [
    "### 5.1 Binomial Coefficient (5 choose 2)\n",
    "**Objective:** Write a function to calculate the binomial coefficient (n choose r) and use it to calculate (5 choose 2).\n"
   ]
  },
  {
   "cell_type": "code",
   "execution_count": 109,
   "id": "83375cd1-75d7-4ed8-9ff6-c841a2d51b5c",
   "metadata": {},
   "outputs": [
    {
     "name": "stdout",
     "output_type": "stream",
     "text": [
      "(5 choose 2): 10.0\n"
     ]
    }
   ],
   "source": [
    "def binomial_coefficient(n, r):\n",
    "    return factorial(n) / (factorial(r) * factorial(n - r))\n",
    "\n",
    "print(f\"(5 choose 2): {binomial_coefficient(5, 2)}\")\n"
   ]
  },
  {
   "cell_type": "markdown",
   "id": "cd41c745-8e78-4769-bd75-8beb94dbe71c",
   "metadata": {},
   "source": [
    "### 5.2 Binomial Coefficient (7 choose 3)\n",
    "**Objective:** Calculate (7 choose 3) using the binomial coefficient function.\n"
   ]
  },
  {
   "cell_type": "code",
   "execution_count": 64,
   "id": "1cc70997-f00b-4402-b5ed-2af6141f5414",
   "metadata": {},
   "outputs": [
    {
     "name": "stdout",
     "output_type": "stream",
     "text": [
      "(7 choose 3): 35\n"
     ]
    }
   ],
   "source": [
    "print(f\"(7 choose 3): {binomial_coefficient(7, 3)}\")\n"
   ]
  },
  {
   "cell_type": "markdown",
   "id": "13750621-6c2c-484f-bd32-d6fac2322f29",
   "metadata": {},
   "source": [
    "### 5.3 Binomial Coefficient (10 choose 5)\n",
    "**Objective:** Calculate (10 choose 5) using the binomial coefficient function.\n"
   ]
  },
  {
   "cell_type": "code",
   "execution_count": 67,
   "id": "9c0576d7-8520-4e39-9678-77e1add9cbf0",
   "metadata": {},
   "outputs": [
    {
     "name": "stdout",
     "output_type": "stream",
     "text": [
      "(10 choose 5): 252\n"
     ]
    }
   ],
   "source": [
    "print(f\"(10 choose 5): {binomial_coefficient(10, 5)}\")\n"
   ]
  },
  {
   "cell_type": "markdown",
   "id": "6f67e045-6fd2-4bd6-895d-e929497cc9a9",
   "metadata": {},
   "source": [
    "# 6. Combinations"
   ]
  },
  {
   "cell_type": "markdown",
   "id": "0736ff80-45ea-4836-9918-181da984e555",
   "metadata": {},
   "source": [
    "### 6.1 Combinations of 3 from a Set of 5\n",
    "**Objective:** Calculate all combinations of 3 elements from a set of 5 elements.\n"
   ]
  },
  {
   "cell_type": "code",
   "execution_count": 107,
   "id": "896d13c4-8ff9-4547-8bd7-6860f4626b42",
   "metadata": {},
   "outputs": [
    {
     "name": "stdout",
     "output_type": "stream",
     "text": [
      "Combinations of 3 from 5: 10.0\n"
     ]
    }
   ],
   "source": [
    "def combinations_count(n, r):\n",
    "    return factorial(n) / (factorial(r) * factorial(n - r))\n",
    "\n",
    "print(f\"Combinations of 3 from 5: {combinations_count(5, 3)}\")\n"
   ]
  },
  {
   "cell_type": "markdown",
   "id": "0078ba37-0f55-43c6-85f0-d99a0eb213b0",
   "metadata": {},
   "source": [
    "### 6.2 Combinations of 3 from a Set of 7\n",
    "**Objective:** Calculate the number of combinations of 3 elements from a set of 7 elements without using libraries.\n"
   ]
  },
  {
   "cell_type": "code",
   "execution_count": 75,
   "id": "65f0069d-e952-4e60-9cff-64f6911a7163",
   "metadata": {},
   "outputs": [
    {
     "name": "stdout",
     "output_type": "stream",
     "text": [
      "Combinations of 3 from 7: 35\n"
     ]
    }
   ],
   "source": [
    "print(f\"Combinations of 3 from 7: {combinations_count(7, 3)}\")\n"
   ]
  },
  {
   "cell_type": "markdown",
   "id": "58380de0-1005-4325-b051-2c5e0c60caef",
   "metadata": {},
   "source": [
    "### 6.3 Poker Hand Combinations\n",
    "**Objective:** Calculate the number of possible 5-card hands from a standard 52-card deck in poker.\n"
   ]
  },
  {
   "cell_type": "code",
   "execution_count": 88,
   "id": "f2525b51-34e0-468e-845d-4bee75f95261",
   "metadata": {},
   "outputs": [
    {
     "name": "stdout",
     "output_type": "stream",
     "text": [
      "Possible 5-card hands in poker: 2598960\n"
     ]
    }
   ],
   "source": [
    "print(f\"Possible 5-card hands in poker: {combinations_count(52, 5)}\")\n"
   ]
  },
  {
   "cell_type": "markdown",
   "id": "12f36205-60d4-4771-9882-556f317936e6",
   "metadata": {},
   "source": [
    "### 6.4 Chessboard Square Combinations\n",
    "**Objective:** Calculate the number of ways to choose 2 squares from a chessboard such that they are of the same color.\n"
   ]
  },
  {
   "cell_type": "code",
   "execution_count": 80,
   "id": "75a829f1-8a0f-43db-9f8b-c3e01221af3b",
   "metadata": {},
   "outputs": [
    {
     "name": "stdout",
     "output_type": "stream",
     "text": [
      "Ways to choose 2 squares of the same color: 496\n"
     ]
    }
   ],
   "source": [
    "# There are 32 squares of each color on a chessboard\n",
    "same_color_combinations = combinations_count(32, 2)\n",
    "print(f\"Ways to choose 2 squares of the same color: {same_color_combinations}\")\n"
   ]
  },
  {
   "cell_type": "markdown",
   "id": "66f21b75-9872-49d1-a63f-bb8e84ff9616",
   "metadata": {},
   "source": [
    "# 7. Closed Form Formulas"
   ]
  },
  {
   "cell_type": "markdown",
   "id": "3643ba02-76b0-4aa8-97fc-3b93e026ec41",
   "metadata": {},
   "source": [
    "### 7.1 Sum of First n Natural Numbers\n",
    "**Objective:** Calculate the sum of the first $n$ natural numbers using the closed-form formula $\\displaystyle \\frac{n(n + 1)}{2}$.\n"
   ]
  },
  {
   "cell_type": "code",
   "execution_count": 105,
   "id": "2a0ad7de-7c81-4422-af66-020b827faa23",
   "metadata": {},
   "outputs": [
    {
     "name": "stdout",
     "output_type": "stream",
     "text": [
      "Sum of the first 10 natural numbers: 55.0\n"
     ]
    }
   ],
   "source": [
    "def sum_of_natural_numbers(n):\n",
    "    return n * (n + 1) / 2\n",
    "\n",
    "print(f\"Sum of the first 10 natural numbers: {sum_of_natural_numbers(10)}\")\n"
   ]
  },
  {
   "cell_type": "markdown",
   "id": "9bda3654-d2d6-4a1b-9c9d-cf3c3bc2b0e3",
   "metadata": {},
   "source": [
    "### 7.2 Sum of First n Squares\n",
    "**Objective:** Calculate the sum of the squares of the first $n$ natural numbers using the closed-form formula $\\displaystyle \\frac{n(n + 1)(2n + 1)}{6}$.\n"
   ]
  },
  {
   "cell_type": "code",
   "execution_count": 103,
   "id": "eab7a914-33eb-4aad-a8c9-b29e4de36d46",
   "metadata": {},
   "outputs": [
    {
     "name": "stdout",
     "output_type": "stream",
     "text": [
      "Sum of the squares of the first 5 natural numbers: 55.0\n"
     ]
    }
   ],
   "source": [
    "def sum_of_squares(n):\n",
    "    return n * (n + 1) * (2 * n + 1) / 6\n",
    "\n",
    "print(f\"Sum of the squares of the first 5 natural numbers: {sum_of_squares(5)}\")\n"
   ]
  },
  {
   "cell_type": "markdown",
   "id": "03b92c48-a972-4528-a7f6-376c21e525dd",
   "metadata": {},
   "source": [
    "### 7.3 Arithmetic Series Sum\n",
    "**Objective:** Calculate the sum of the first $n$ terms of an arithmetic series with a common difference $d$, starting from $a$. Formula: $\\displaystyle \\frac{n}{2} \\cdot (2a + (n - 1)d)$.\n",
    "\n"
   ]
  },
  {
   "cell_type": "code",
   "execution_count": 113,
   "id": "19ffb941-5979-45b5-bd85-c064d06699ce",
   "metadata": {},
   "outputs": [
    {
     "name": "stdout",
     "output_type": "stream",
     "text": [
      "Sum of the first 6 terms of an arithmetic series starting from 2 with a common difference of 3: 57\n"
     ]
    }
   ],
   "source": [
    "def arithmetic_series_sum(a, d, n):\n",
    "    return n * (2 * a + (n - 1) * d) // 2\n",
    "\n",
    "print(f\"Sum of the first 6 terms of an arithmetic series starting from 2 with a common difference of 3: {arithmetic_series_sum(2, 3, 6)}\")\n"
   ]
  },
  {
   "cell_type": "markdown",
   "id": "61ddd69c-e5ac-478e-949c-afce9c4893a0",
   "metadata": {},
   "source": [
    "### 7.4 Geometric Series Sum\n",
    "**Objective:** Calculate the sum of the first $n$ terms of a geometric series with a common ratio $r$, starting from $a$. Formula: $\\displaystyle a \\cdot \\frac{1 - r^n}{1 - r}$.\n"
   ]
  },
  {
   "cell_type": "code",
   "execution_count": 119,
   "id": "f30fd86e-4826-47f4-be3f-d6ef2b3e2719",
   "metadata": {},
   "outputs": [
    {
     "name": "stdout",
     "output_type": "stream",
     "text": [
      "Sum of the first 5 terms of a geometric series starting from 1 with a common ratio of 2: 31\n"
     ]
    }
   ],
   "source": [
    "def geometric_series_sum(a, r, n):\n",
    "    return a * (1 - r ** n) // (1 - r)\n",
    "\n",
    "print(f\"Sum of the first 5 terms of a geometric series starting from 1 with a common ratio of 2: {geometric_series_sum(1, 2, 5)}\")\n"
   ]
  },
  {
   "cell_type": "markdown",
   "id": "2ec3583c-2076-4971-b97c-3d292ff07b49",
   "metadata": {},
   "source": [
    "# 8. Sum of Geometric Sequences"
   ]
  },
  {
   "cell_type": "markdown",
   "id": "269fe844-f0ac-4a1c-95d4-f9c05b17f259",
   "metadata": {},
   "source": [
    "### 8.1 Sum of a Finite Geometric Sequence\n",
    "**Objective:** Calculate the sum of the first 5 terms of a geometric sequence with the first term $a = 3$ and common ratio $r = 2$.  \n",
    "Expanded Form: $3 + 6 + 12 + 24 + 48$  \n",
    "Summation Form: $\\displaystyle \\sum_{k=0}^{4} 3 \\cdot 2^k$\n"
   ]
  },
  {
   "cell_type": "code",
   "execution_count": 125,
   "id": "5bdd7c90-9a81-4400-946c-4e160f943c2a",
   "metadata": {},
   "outputs": [
    {
     "name": "stdout",
     "output_type": "stream",
     "text": [
      "Sum of the first 5 terms: 93\n"
     ]
    }
   ],
   "source": [
    "def geometric_sequence_sum(a, r, n):\n",
    "    return a * (1 - r ** n) // (1 - r)\n",
    "\n",
    "print(f\"Sum of the first 5 terms: {geometric_sequence_sum(3, 2, 5)}\")\n"
   ]
  },
  {
   "cell_type": "markdown",
   "id": "c6ff4fa0-15eb-4b21-af2b-7cfd3931b253",
   "metadata": {},
   "source": [
    "### 8.2 Sum of an Infinite Geometric Series\n",
    "**Objective:** Calculate the sum of an infinite geometric series with the first term $a = 4$ and common ratio $r = 0.5$.  \n",
    "Expanded Form: $4 + 2 + 1 + 0.5 + 0.25 + \\dots$  \n",
    "Summation Form: $\\displaystyle \\sum_{k=0}^{\\infty} 4 \\cdot 0.5^k$\n",
    "\n"
   ]
  },
  {
   "cell_type": "code",
   "execution_count": 128,
   "id": "ff8eb23b-9812-4372-be0b-0d658cd7ebe3",
   "metadata": {},
   "outputs": [
    {
     "name": "stdout",
     "output_type": "stream",
     "text": [
      "Sum of the infinite series: 8.0\n"
     ]
    }
   ],
   "source": [
    "def infinite_geometric_series_sum(a, r):\n",
    "    return a / (1 - r)\n",
    "\n",
    "print(f\"Sum of the infinite series: {infinite_geometric_series_sum(4, 0.5)}\")\n"
   ]
  },
  {
   "cell_type": "markdown",
   "id": "263e791b-4d87-4acd-ac47-053227abc1b4",
   "metadata": {},
   "source": [
    "### 8.3 Sum of a Finite Geometric Sequence (Fractional Ratio)\n",
    "**Objective:** Calculate the sum of the first 7 terms of a geometric sequence with the first term $a = 1$ and common ratio $\\displaystyle r = \\frac{1}{3}$.  \n",
    "Expanded Form: $\\displaystyle1 + \\frac{1}{3} + \\frac{1}{9} + \\frac{1}{27} + \\frac{1}{81} + \\frac{1}{243} + \\frac{1}{729}$  \n",
    "Summation Form: $\\displaystyle \\sum_{k=0}^{6} 1 \\cdot \\left(\\frac{1}{3}\\right)^k$\n",
    "\n"
   ]
  },
  {
   "cell_type": "code",
   "execution_count": 138,
   "id": "867ecdb0-569d-4934-9794-ab1287bf951a",
   "metadata": {},
   "outputs": [
    {
     "name": "stdout",
     "output_type": "stream",
     "text": [
      "Sum of the first 7 terms: 1.0\n"
     ]
    }
   ],
   "source": [
    "print(f\"Sum of the first 7 terms: {geometric_sequence_sum(1, 1/3, 7)}\")\n"
   ]
  },
  {
   "cell_type": "markdown",
   "id": "d519a848-077e-4a78-99c6-7c5be0c2ab04",
   "metadata": {},
   "source": [
    "# 9. Defining Sequences Recursively"
   ]
  },
  {
   "cell_type": "markdown",
   "id": "2d99237d-4373-406d-b079-6018b32b0688",
   "metadata": {},
   "source": [
    "### 9.1 Fibonacci Sequence\n",
    "**Objective:** Write a function to generate the first 10 terms of the Fibonacci sequence using recursion.  \n",
    "Recurrence Relation: $F_n = F_{n-1} + F_{n-2}$ with $F_0 = 0$ and $F_1 = 1$.\n"
   ]
  },
  {
   "cell_type": "code",
   "execution_count": 144,
   "id": "e7dcdf16-2c0e-4d50-ae99-b3bed70083c7",
   "metadata": {},
   "outputs": [
    {
     "name": "stdout",
     "output_type": "stream",
     "text": [
      "[0, 1, 1, 2, 3, 5, 8, 13, 21, 34]\n"
     ]
    }
   ],
   "source": [
    "def fibonacci(n):\n",
    "    if n == 0:\n",
    "        return 0\n",
    "    elif n == 1:\n",
    "        return 1\n",
    "    else:\n",
    "        return fibonacci(n-1) + fibonacci(n-2)\n",
    "\n",
    "fibonacci_sequence = [fibonacci(i) for i in range(10)]\n",
    "print(fibonacci_sequence)\n"
   ]
  },
  {
   "cell_type": "markdown",
   "id": "398dffb4-9b65-4eb8-9f31-6d8beaf01f5d",
   "metadata": {},
   "source": [
    "### 9.2 Arithmetic Sequence\n",
    "**Objective:** Define an arithmetic sequence recursively and calculate the 5th term.  \n",
    "Recurrence Relation: $a_n = a_{n-1} + d$ with $a_1 = 3$ and common difference $d = 2$.\n"
   ]
  },
  {
   "cell_type": "code",
   "execution_count": 1,
   "id": "f0e50b54-ced5-4d7d-9167-5cb17a5a825b",
   "metadata": {},
   "outputs": [
    {
     "name": "stdout",
     "output_type": "stream",
     "text": [
      "The 5th term of the sequence: 21\n"
     ]
    }
   ],
   "source": [
    "def arithmetic_sequence(n, d=2, a1=3):\n",
    "    if n == 1:\n",
    "        return a1\n",
    "    else:\n",
    "        return arithmetic_sequence(n-1, d) + d\n",
    "\n",
    "print(f\"The 5th term of the sequence: {arithmetic_sequence(10)}\")\n"
   ]
  },
  {
   "cell_type": "markdown",
   "id": "a79b6aca-1e01-45b0-8b41-444db6d4b203",
   "metadata": {},
   "source": [
    "### 9.3 Geometric Sequence\n",
    "**Objective:** Define a geometric sequence recursively and calculate the 4th term.  \n",
    "Recurrence Relation: $g_n = g_{n-1} \\cdot r$ with $g_1 = 4$ and common ratio $r = 3$.\n"
   ]
  },
  {
   "cell_type": "code",
   "execution_count": 1,
   "id": "c93f0e3c-c945-4d1a-9310-eae11dbd8973",
   "metadata": {},
   "outputs": [
    {
     "name": "stdout",
     "output_type": "stream",
     "text": [
      "The 4th term of the sequence: 324\n"
     ]
    }
   ],
   "source": [
    "def geometric_sequence(n, r=3, g1=4):\n",
    "    if n == 1:\n",
    "        return g1\n",
    "    else:\n",
    "        return geometric_sequence(n-1, r) * r\n",
    "\n",
    "print(f\"The 4th term of the sequence: {geometric_sequence(5)}\")\n"
   ]
  },
  {
   "cell_type": "markdown",
   "id": "1f37211f-0dec-412f-8ddf-347e275efb73",
   "metadata": {},
   "source": [
    "# 10. Implement in Python code your bonus question 1 from Homework 3"
   ]
  },
  {
   "cell_type": "code",
   "execution_count": 1,
   "id": "dda8aad3-9664-4ed5-91df-2b90e3f5e3e0",
   "metadata": {},
   "outputs": [
    {
     "name": "stdout",
     "output_type": "stream",
     "text": [
      "This loop will repeat exactly 10 times.\n",
      "Freeze or I'll shoot.\n",
      "Fix my ceiling or I won't pay my rent.\n"
     ]
    }
   ],
   "source": [
    "def bonus_question():\n",
    "    # Statement (a)\n",
    "    loop_contains_stop_or_goto = False  # Assuming this is a condition you can check\n",
    "    N = 10  # Example value for N\n",
    "\n",
    "    if not loop_contains_stop_or_goto:\n",
    "        print(f\"This loop will repeat exactly {N} times.\")\n",
    "\n",
    "    # Statement (b)\n",
    "    freeze = False  # Example condition\n",
    "    if not freeze:\n",
    "        print(\"Freeze or I'll shoot.\")\n",
    "\n",
    "    # Statement (c)\n",
    "    ceiling_fixed = False  # Example condition\n",
    "    if ceiling_fixed:\n",
    "        print(\"I will pay my rent.\")\n",
    "    else:\n",
    "        print(\"Fix my ceiling or I won't pay my rent.\")\n",
    "\n",
    "# Calling the function to execute the statements\n",
    "bonus_question()\n"
   ]
  },
  {
   "cell_type": "code",
   "execution_count": null,
   "id": "491b8090",
   "metadata": {},
   "outputs": [],
   "source": []
  }
 ],
 "metadata": {
  "kernelspec": {
   "display_name": "Python 3 (ipykernel)",
   "language": "python",
   "name": "python3"
  },
  "language_info": {
   "codemirror_mode": {
    "name": "ipython",
    "version": 3
   },
   "file_extension": ".py",
   "mimetype": "text/x-python",
   "name": "python",
   "nbconvert_exporter": "python",
   "pygments_lexer": "ipython3",
   "version": "3.11.7"
  }
 },
 "nbformat": 4,
 "nbformat_minor": 5
}

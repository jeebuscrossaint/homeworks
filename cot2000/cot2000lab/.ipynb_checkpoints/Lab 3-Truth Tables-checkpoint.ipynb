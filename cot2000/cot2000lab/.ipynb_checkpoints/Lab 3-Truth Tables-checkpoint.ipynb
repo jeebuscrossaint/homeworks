{
 "cells": [
  {
   "cell_type": "markdown",
   "id": "0f3bd9ff",
   "metadata": {},
   "source": [
    "Lab 3 for Truth Tables - Amarnath Patel"
   ]
  },
  {
   "cell_type": "markdown",
   "id": "9a84006e",
   "metadata": {},
   "source": [
    "\\documentclass{article}\n",
    "\\usepackage{amsmath}\n",
    "\\usepackage{amssymb}\n",
    "\n",
    "\\begin{document}\n",
    "\n",
    "\\[\n",
    "(p \\rightarrow q) \\leftrightarrow (\\neg r \\wedge (p \\vee \\neg q))\n",
    "\\]\n",
    "\n",
    "\\end{document}\n"
   ]
  },
  {
   "cell_type": "code",
   "execution_count": 1,
   "id": "814e5dee",
   "metadata": {},
   "outputs": [
    {
     "name": "stdout",
     "output_type": "stream",
     "text": [
      "p=True, q=True, r=True => False\n",
      "p=True, q=True, r=False => True\n",
      "p=True, q=False, r=True => True\n",
      "p=True, q=False, r=False => False\n",
      "p=False, q=True, r=True => False\n",
      "p=False, q=True, r=False => False\n",
      "p=False, q=False, r=True => False\n",
      "p=False, q=False, r=False => True\n"
     ]
    }
   ],
   "source": [
    "def logic_statement(p, q, r):\n",
    "    # Define the logical operations\n",
    "    not_r = not r\n",
    "    p_or_not_q = p or not q\n",
    "    left_side = p <= q\n",
    "    right_side = not_r and p_or_not_q\n",
    "    result = left_side == right_side\n",
    "    return result\n",
    "\n",
    "# Test the logic statement with different values of p, q, r\n",
    "test_values = [\n",
    "    (True, True, True),\n",
    "    (True, True, False),\n",
    "    (True, False, True),\n",
    "    (True, False, False),\n",
    "    (False, True, True),\n",
    "    (False, True, False),\n",
    "    (False, False, True),\n",
    "    (False, False, False)\n",
    "]\n",
    "\n",
    "for p, q, r in test_values:\n",
    "    result = logic_statement(p, q, r)\n",
    "    print(f\"p={p}, q={q}, r={r} => {result}\")\n"
   ]
  },
  {
   "cell_type": "code",
   "execution_count": 2,
   "id": "3d5460d7",
   "metadata": {},
   "outputs": [
    {
     "name": "stdout",
     "output_type": "stream",
     "text": [
      "p     q     ¬p    ¬p ∨ q     p → q\n",
      "------------------------------\n",
      "1     1     0     1          1    \n",
      "1     0     0     0          0    \n",
      "0     1     1     1          1    \n",
      "0     0     1     1          1    \n"
     ]
    }
   ],
   "source": [
    "def truth_table():\n",
    "    # Define the header of the truth table\n",
    "    header = [\"p\", \"q\", \"¬p\", \"¬p ∨ q\", \"p → q\"]\n",
    "    print(\"{:<5} {:<5} {:<5} {:<10} {:<5}\".format(*header))\n",
    "    print(\"-\" * 30)\n",
    "\n",
    "    # Possible values for p and q\n",
    "    values = [True, False]\n",
    "\n",
    "    for p in values:\n",
    "        for q in values:\n",
    "            not_p = not p\n",
    "            not_p_or_q = not_p or q\n",
    "            p_implies_q = p <= q\n",
    "            row = [p, q, not_p, not_p_or_q, p_implies_q]\n",
    "            print(\"{:<5} {:<5} {:<5} {:<10} {:<5}\".format(*row))\n",
    "\n",
    "# Generate and print the truth table\n",
    "truth_table()\n"
   ]
  },
  {
   "cell_type": "markdown",
   "id": "40cfe139-11a1-486e-a133-7c247e6f34cc",
   "metadata": {},
   "source": [
    "# Truth tables using Python"
   ]
  },
  {
   "cell_type": "markdown",
   "id": "4e73e660-b643-41b9-aae6-28f2f080ebcb",
   "metadata": {},
   "source": [
    "## 1. Logical Functions\n",
    "TASK: Read the following code, and notice how a truth table is constructed"
   ]
  },
  {
   "cell_type": "code",
   "execution_count": 13,
   "id": "7629db99-4628-48cc-97d6-0cd257489075",
   "metadata": {},
   "outputs": [
    {
     "name": "stdout",
     "output_type": "stream",
     "text": [
      "p\tq\tp -> q\tp <-> q\n",
      "----------------------------------------\n",
      "True\tTrue\tTrue\tTrue\n",
      "True\tFalse\tFalse\tFalse\n",
      "False\tTrue\tTrue\tFalse\n",
      "False\tFalse\tTrue\tTrue\n"
     ]
    }
   ],
   "source": [
    "# Logical functions\n",
    "\n",
    "# Conditional equivalence\n",
    "def implies(p, q):\n",
    "    return not p or q\n",
    "\n",
    "# Bi-conditional\n",
    "def biconditional(p, q):\n",
    "    return p == q\n",
    "\n",
    "# Sample truth table for conditional and bi-conditional\n",
    "def truth_table():\n",
    "    print('p\\tq\\tp -> q\\tp <-> q')\n",
    "    print('-'*40)\n",
    "    for p in [True, False]:\n",
    "        for q in [True, False]:\n",
    "            print(f'{p}\\t{q}\\t{implies(p, q)}\\t{biconditional(p, q)}')\n",
    "\n",
    "truth_table()"
   ]
  },
  {
   "cell_type": "markdown",
   "id": "32213b99-5c91-45a4-b013-210a73cb414f",
   "metadata": {},
   "source": [
    "## 2. Testing the conditional and biconditional\n",
    "TASK: Modify values of the propositions p and q"
   ]
  },
  {
   "cell_type": "code",
   "execution_count": 3,
   "id": "9c538170-d334-4a77-afcd-af031eb7e448",
   "metadata": {},
   "outputs": [
    {
     "name": "stdout",
     "output_type": "stream",
     "text": [
      "p = True, q = True\n",
      "p → q: True\n",
      "p ↔ q: True\n"
     ]
    }
   ],
   "source": [
    "def implies(p, q):\n",
    "    # Conditional: p -> q\n",
    "    return not p or q\n",
    "\n",
    "def biconditional(p, q):\n",
    "    # Biconditional: p <-> q\n",
    "    return p == q\n",
    "\n",
    "# Modify the values of p and q for testing\n",
    "p = True  # TASK: Modify this value\n",
    "q = True  # TASK: Modify this value\n",
    "\n",
    "# Evaluate the conditional and biconditional\n",
    "conditional_result = implies(p, q)\n",
    "biconditional_result = biconditional(p, q)\n",
    "\n",
    "print(f\"p = {p}, q = {q}\")\n",
    "print(f\"p → q: {conditional_result}\")\n",
    "print(f\"p ↔ q: {biconditional_result}\")\n"
   ]
  },
  {
   "cell_type": "markdown",
   "id": "7f1a240a-df8f-4d78-bee9-9c1e41e995d0",
   "metadata": {},
   "source": [
    "# 3. Compound statement in LaTeX\n",
    "TASK: Modify the markdown cell below for different compound statements"
   ]
  },
  {
   "cell_type": "markdown",
   "id": "6e7076ab-2b61-4269-b33c-77fd66b3ae7a",
   "metadata": {},
   "source": [
    "# $ p \\rightarrow (q \\lor r) \\equiv (p \\land \\neg q) \\rightarrow r $"
   ]
  },
  {
   "cell_type": "markdown",
   "id": "33c1793f-5e44-4ae0-920c-fb6053ee917e",
   "metadata": {},
   "source": [
    "## 4. Compound statement truth table\n",
    "TASK: Read and modify code acordingly to implement a different compound statement"
   ]
  },
  {
   "cell_type": "code",
   "execution_count": 4,
   "id": "dcf8fd8b-64d2-487a-8d97-62720ef19ac9",
   "metadata": {},
   "outputs": [
    {
     "name": "stdout",
     "output_type": "stream",
     "text": [
      "p \tq \tr \t¬q \tq ∨ r \tp → (q ∨ r) \t\tp ∧ ¬q \t\t(p ∧ ¬q) → r \t\tp → (q ∨ r) ≡ (p ∧ ¬q) → r\n",
      "----------------------------------------------------------------------------------------------------\n",
      "True \tTrue \tTrue \tFalse \tTrue \tTrue \t\tFalse \t\tTrue \t\tTrue\n",
      "True \tTrue \tFalse \tFalse \tTrue \tTrue \t\tFalse \t\tTrue \t\tTrue\n",
      "True \tFalse \tTrue \tTrue \tTrue \tTrue \t\tTrue \t\tTrue \t\tTrue\n",
      "True \tFalse \tFalse \tTrue \tFalse \tFalse \t\tTrue \t\tFalse \t\tTrue\n",
      "False \tTrue \tTrue \tFalse \tTrue \tTrue \t\tFalse \t\tTrue \t\tTrue\n",
      "False \tTrue \tFalse \tFalse \tTrue \tTrue \t\tFalse \t\tTrue \t\tTrue\n",
      "False \tFalse \tTrue \tTrue \tTrue \tTrue \t\tFalse \t\tTrue \t\tTrue\n",
      "False \tFalse \tFalse \tTrue \tFalse \tTrue \t\tFalse \t\tTrue \t\tTrue\n"
     ]
    }
   ],
   "source": [
    "def implies(p, q):\n",
    "    return not p or q\n",
    "\n",
    "# Column headers for the compound statement\n",
    "col1 = 'p'\n",
    "col2 = 'q'\n",
    "col3 = 'r'\n",
    "col4 = '¬q'\n",
    "col5 = 'q ∨ r'\n",
    "col6 = 'p → (q ∨ r)'\n",
    "col7 = 'p ∧ ¬q'\n",
    "col8 = '(p ∧ ¬q) → r'\n",
    "col9 = 'p → (q ∨ r) ≡ (p ∧ ¬q) → r'\n",
    "\n",
    "# Print the headers\n",
    "print(f'{col1} \\t{col2} \\t{col3} \\t{col4} \\t{col5} \\t{col6} \\t\\t{col7} \\t\\t{col8} \\t\\t{col9}')\n",
    "print('-'*100)\n",
    "\n",
    "# Iterate over all possible values of p, q, r\n",
    "for p in [True, False]:\n",
    "    for q in [True, False]:\n",
    "        for r in [True, False]:\n",
    "            col1 = p\n",
    "            col2 = q\n",
    "            col3 = r\n",
    "            col4 = not q\n",
    "            col5 = q or r\n",
    "            col6 = implies(p, q or r)\n",
    "            col7 = p and not q\n",
    "            col8 = implies(p and not q, r)\n",
    "            col9 = col6 == col8  # Check equivalence of the compound statements\n",
    "\n",
    "            # Print the row for the current values of p, q, r\n",
    "            print(f'{col1} \\t{col2} \\t{col3} \\t{col4} \\t{col5} \\t{col6} \\t\\t{col7} \\t\\t{col8} \\t\\t{col9}')\n"
   ]
  },
  {
   "cell_type": "code",
   "execution_count": null,
   "id": "e8451b9c-ebf5-410c-9843-b30bd129613b",
   "metadata": {},
   "outputs": [],
   "source": []
  }
 ],
 "metadata": {
  "kernelspec": {
   "display_name": "Python 3 (ipykernel)",
   "language": "python",
   "name": "python3"
  },
  "language_info": {
   "codemirror_mode": {
    "name": "ipython",
    "version": 3
   },
   "file_extension": ".py",
   "mimetype": "text/x-python",
   "name": "python",
   "nbconvert_exporter": "python",
   "pygments_lexer": "ipython3",
   "version": "3.11.7"
  }
 },
 "nbformat": 4,
 "nbformat_minor": 5
}

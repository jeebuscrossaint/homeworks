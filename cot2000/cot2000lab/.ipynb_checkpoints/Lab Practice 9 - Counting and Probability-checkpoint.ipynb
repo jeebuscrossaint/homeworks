{
 "cells": [
  {
   "cell_type": "markdown",
   "id": "ccf60d6a-f6a9-4fb0-8f66-199a55070604",
   "metadata": {},
   "source": [
    "# Lab 9 - Counting and Probability\n",
    "## Exercise 1: Menu Choices"
   ]
  },
  {
   "cell_type": "markdown",
   "id": "1c1c01c7-f6af-4278-9eb9-c0c33bd3dd4a",
   "metadata": {},
   "source": [
    "A restaurant offers 4 choices of appetizers, 5 choices of main courses, and 3 choices of desserts. How many different meals can be ordered if each meal includes one appetizer, one main course, and one dessert?"
   ]
  },
  {
   "cell_type": "markdown",
   "id": "36554153-194a-457a-aea6-db88ef6888fb",
   "metadata": {},
   "source": [
    "### Solution:\n",
    "Use the rule of products. Total number of meals = 4 appetizers * 5 main courses * 3 desserts = 60 meals."
   ]
  },
  {
   "cell_type": "code",
   "execution_count": 1,
   "id": "7287223f-978a-4572-8ee2-2c82abb12b71",
   "metadata": {},
   "outputs": [
    {
     "name": "stdout",
     "output_type": "stream",
     "text": [
      "Total number of different meals: 72\n"
     ]
    }
   ],
   "source": [
    "# Updated number of choices\n",
    "appetizers = 3           # Changed from 4 to 3\n",
    "main_courses = 6         # Changed from 5 to 6\n",
    "desserts = 4             # Changed from 3 to 4\n",
    "\n",
    "# Calculate the total number of different meals\n",
    "total_meals = appetizers * main_courses * desserts\n",
    "\n",
    "# Print the result\n",
    "print(f\"Total number of different meals: {total_meals}\")\n"
   ]
  },
  {
   "cell_type": "markdown",
   "id": "37241d76-192b-4cbd-9010-10bc3dcacd33",
   "metadata": {},
   "source": [
    "## Exercise 2: Password Creation\n",
    "A website requires a password that consists of 3 letters followed by 3 digits. How many unique passwords can be created if letters and digits can be repeated?"
   ]
  },
  {
   "cell_type": "markdown",
   "id": "9186226d-7fd3-446d-abe1-ae7c56f85223",
   "metadata": {},
   "source": [
    "### Solution: \n",
    "There are 26 possibilities for each letter and 10 possibilities for each digit. Total number of passwords = 26^3 * 10^3."
   ]
  },
  {
   "cell_type": "code",
   "execution_count": 2,
   "id": "4c08df6e-2695-4e9b-a7f3-25a487b1a924",
   "metadata": {},
   "outputs": [
    {
     "name": "stdout",
     "output_type": "stream",
     "text": [
      "Total number of unique passwords: 6760000\n"
     ]
    }
   ],
   "source": [
    "# Updated numbers\n",
    "letters = 26 ** 2          # Changed from 26^3 to 26^2\n",
    "digits = 10 ** 4           # Changed from 10^3 to 10^4\n",
    "\n",
    "# Calculate the total number of unique passwords\n",
    "total_passwords = letters * digits\n",
    "\n",
    "# Print the result\n",
    "print(f\"Total number of unique passwords: {total_passwords}\")\n"
   ]
  },
  {
   "cell_type": "markdown",
   "id": "5497473e-1fb9-4792-b2b3-7c0b54905560",
   "metadata": {},
   "source": [
    "## Exercise 3: Book Arrangement \n",
    "How many ways can 5 different books be arranged on a shelf?"
   ]
  },
  {
   "cell_type": "markdown",
   "id": "56af67d6-2ad0-40da-8763-c703d5af53f9",
   "metadata": {},
   "source": [
    "### Solution\n",
    "This is a permutation problem with all 5 books being distinct. Total arrangements = 5! (factorial of 5)."
   ]
  },
  {
   "cell_type": "code",
   "execution_count": 5,
   "id": "eb1fc5f3-9fc7-4a8d-a597-adbbac1e6c25",
   "metadata": {},
   "outputs": [
    {
     "name": "stdout",
     "output_type": "stream",
     "text": [
      "Total arrangements of books: 6\n"
     ]
    }
   ],
   "source": [
    "# Solution 2                       \n",
    "def generate_permutations(sequence, items):\n",
    "    if len(items) == 0:\n",
    "        all_permutations.append(sequence)\n",
    "    else:\n",
    "        for i in range(len(items)):\n",
    "            # Generate a new sequence that includes the current item\n",
    "            new_sequence = sequence + [items[i]]\n",
    "            # Create a new list of items without the current item\n",
    "            remaining_items = items[:i] + items[i+1:]\n",
    "            # Recursively generate permutations with the updated sequence and remaining items\n",
    "            generate_permutations(new_sequence, remaining_items)\n",
    "\n",
    "# Initialize the list of all permutations\n",
    "all_permutations = []\n",
    "\n",
    "# Define the books\n",
    "books = ['A', 'B', 'C']  # Changed from ['A', 'B', 'C', 'D', 'E'] to ['A', 'B', 'C']\n",
    "\n",
    "# Start generating permutations with an empty sequence and the full list of items\n",
    "generate_permutations([], books)\n",
    "\n",
    "# The total number of arrangements is the length of the list of all permutations\n",
    "total_arrangements = len(all_permutations)\n",
    "\n",
    "print(f\"Total arrangements of books: {total_arrangements}\")\n",
    "# This print statement is to indicate the process, in practice, you'd probably want to do more with the permutations.\n"
   ]
  },
  {
   "cell_type": "markdown",
   "id": "7f41d49f-d769-4083-b3d8-d6128c9f89ca",
   "metadata": {},
   "source": [
    "## Exercise 4: Committee Selection\n",
    "A committee of 3 people is to be formed from a group of 8 candidates. How many different committees are possible?"
   ]
  },
  {
   "cell_type": "markdown",
   "id": "f84b01c1-2f9c-4557-81bd-f4a1172da9c0",
   "metadata": {},
   "source": [
    "### Solution"
   ]
  },
  {
   "cell_type": "markdown",
   "id": "9a5600e0-8f5b-4ad7-acd2-a3b5da5f2aa3",
   "metadata": {},
   "source": [
    "We're dealing with the concept of combinations, since the order in which committee members are selected does not matter. \n",
    "$C(8, 3) = \\frac{8!}{3!(8 - 3)!} = \\frac{8 \\times 7 \\times 6}{3 \\times 2 \\times 1} = \\frac{40320}{6 \\times 120} = \\frac{40320}{720} = 56$"
   ]
  },
  {
   "cell_type": "code",
   "execution_count": 6,
   "id": "5ee1ab46-d9dc-4517-a502-c6ce86c1cc51",
   "metadata": {},
   "outputs": [
    {
     "name": "stdout",
     "output_type": "stream",
     "text": [
      "Total committees (using formula): 210\n"
     ]
    }
   ],
   "source": [
    "# SOLUTION 1 - Applying the formula\n",
    "def factorial(n):\n",
    "    \"\"\"Calculate the factorial of n.\"\"\"\n",
    "    result = 1\n",
    "    for i in range(2, n + 1):\n",
    "        result *= i\n",
    "    return result\n",
    "\n",
    "def combinations(n, k):\n",
    "    \"\"\"Calculate the number of combinations (n choose k).\"\"\"\n",
    "    return factorial(n) // (factorial(k) * factorial(n - k))\n",
    "\n",
    "# Calculate the number of ways to form a committee of 4 from 10 candidates\n",
    "total_committees_formula = combinations(10, 4)  # Changed from combinations(8, 3) to combinations(10, 4)\n",
    "print(f\"Total committees (using formula): {total_committees_formula}\")\n"
   ]
  },
  {
   "cell_type": "markdown",
   "id": "168a5d43-20e4-4d63-920e-4abc7a0bab2d",
   "metadata": {},
   "source": [
    "## Exercise 5: Soccer Team\n",
    "How many ways can 11 players be selected from a squad of 16 to start a soccer match?"
   ]
  },
  {
   "cell_type": "markdown",
   "id": "61e5ffc1-2ed0-4725-8d50-6eb277bea12b",
   "metadata": {},
   "source": [
    "### Solution"
   ]
  },
  {
   "cell_type": "markdown",
   "id": "e2000e6d-3b44-4669-99cc-02f43e1fcd7b",
   "metadata": {},
   "source": [
    "This is a combination problem since the order does not matter. Total ways = C(16, 11) = 16! / (11! * (16-11)!)."
   ]
  },
  {
   "cell_type": "code",
   "execution_count": 7,
   "id": "6a374f05-7625-425b-abc2-2fff7c543e2c",
   "metadata": {},
   "outputs": [
    {
     "name": "stdout",
     "output_type": "stream",
     "text": [
      "Total ways to select 11 players (using formula): 4368\n"
     ]
    }
   ],
   "source": [
    "# Solution 1: Applying the Combinations Formula\n",
    "def factorial(n):\n",
    "    \"\"\"Calculate the factorial of n.\"\"\"\n",
    "    result = 1\n",
    "    for i in range(2, n + 1):\n",
    "        result *= i\n",
    "    return result\n",
    "\n",
    "def combinations(n, k):\n",
    "    \"\"\"Calculate the number of combinations (n choose k).\"\"\"\n",
    "    return factorial(n) // (factorial(k) * factorial(n - k))\n",
    "\n",
    "# Calculate the number of ways to select 11 players from a squad of 16\n",
    "total_selections_formula = combinations(16, 11)  # Changed from different numbers to (16, 11)\n",
    "print(f\"Total ways to select 11 players (using formula): {total_selections_formula}\")\n"
   ]
  },
  {
   "cell_type": "markdown",
   "id": "20020658-b69b-4f60-9463-09b348eae407",
   "metadata": {},
   "source": [
    "## Exercise 5: Birthday Problem\n",
    "Given a room with \n",
    "n people, what is the probability that at least two people share the same birthday? Assume a year of 365 days, and ignore leap years."
   ]
  },
  {
   "cell_type": "markdown",
   "id": "b70a4757-9e98-43f9-b29a-e783655dd710",
   "metadata": {},
   "source": [
    "### Solution"
   ]
  },
  {
   "cell_type": "markdown",
   "id": "8cb7fadd-8f32-443c-9cf3-254e15c6ec34",
   "metadata": {},
   "source": [
    "The probability that all $n$ people have unique birthdays is calculated by considering the probability of each successive person having a birthday different from those previously considered. For the first person, any birthday is acceptable, giving a probability of $\\frac{365}{365}$. The second person must have a different birthday than the first, giving a probability of $\\frac{364}{365}$, and so on, until the $n$th person, who must have a birthday different from the previous $n-1$ people, giving a probability of $\\frac{365 - n + 1}{365}$.\n",
    "\n",
    "Therefore, the probability $P_{\\text{unique}}(n)$ of $n$ people all having unique birthdays is the product of these probabilities:\n",
    "\n",
    "$P_{\\text{unique}}(n) = \\frac{365}{365} \\times \\frac{364}{365} \\times \\cdots \\times \\frac{365-n+1}{365}$\n",
    "\n",
    "The probability that at least two people in a group of $n$ share the same birthday is the complement of $P_{\\text{unique}}(n)$:\n",
    "\n",
    "$P(n) = 1 - P_{\\text{unique}}(n)$\n",
    "\n",
    "For $n = 23$, this becomes:\n",
    "\n",
    "$P(23) = 1 - \\left( \\frac{365}{365} \\times \\frac{364}{365} \\times \\cdots \\times \\frac{343}{365} \\right)$\n",
    "\n",
    "$P(23) \\approx 0.5073$\n",
    "\n",
    "Thus, the probability that in a group of 23 people, at least two share the same birthday is approximately 50.73%.\n",
    "\n",
    "$P(n) = 1 - \\prod_{i=0}^{n-1} \\frac{365 - i}{365}$ This formula represents the complement of the probability that all n people have different birthdays, with the product running from i=0 to n-1."
   ]
  },
  {
   "cell_type": "code",
   "execution_count": 91,
   "id": "fb25273f-8967-4a80-9c45-d527f8051956",
   "metadata": {},
   "outputs": [
    {
     "name": "stdout",
     "output_type": "stream",
     "text": [
      "Theoretical probability for 23 people: 0.5072972343239857\n",
      "Simulated probability for 23 people: 0.525\n"
     ]
    }
   ],
   "source": [
    "# SOLUTION 1 - Applying the formula\n",
    "def theoretical_birthday_probability(n):\n",
    "    probability_unique = 1.0\n",
    "    for i in range(n):\n",
    "        probability_unique *= (365 - i) / 365\n",
    "    return 1 - probability_unique\n",
    "\n",
    "# Example: Probability for n = 30\n",
    "n = 30  # Changed from 23 to 30\n",
    "print(f\"Theoretical probability for {n} people: {theoretical_birthday_probability(n)}\")\n"
   ]
  },
  {
   "cell_type": "code",
   "execution_count": null,
   "id": "6d728772-a46e-4022-93ae-f8e296d19131",
   "metadata": {},
   "outputs": [],
   "source": []
  }
 ],
 "metadata": {
  "kernelspec": {
   "display_name": "Python 3 (ipykernel)",
   "language": "python",
   "name": "python3"
  },
  "language_info": {
   "codemirror_mode": {
    "name": "ipython",
    "version": 3
   },
   "file_extension": ".py",
   "mimetype": "text/x-python",
   "name": "python",
   "nbconvert_exporter": "python",
   "pygments_lexer": "ipython3",
   "version": "3.11.7"
  }
 },
 "nbformat": 4,
 "nbformat_minor": 5
}

{
 "cells": [
  {
   "cell_type": "markdown",
   "id": "39fb7c01-1e80-4b4f-9365-b090fd4d9cdd",
   "metadata": {},
   "source": [
    "# LAB Practice 8 - Functions\n",
    "### Please modify the defined lines, by changing the expression for the relation and the domain and co-domain sets.\n",
    "### Please verify and explain the results."
   ]
  },
  {
   "cell_type": "code",
   "execution_count": 1,
   "id": "3e046008-9306-491f-86c4-3ea05c84ae45",
   "metadata": {},
   "outputs": [
    {
     "name": "stdout",
     "output_type": "stream",
     "text": [
      "Cartesian Product:\n",
      "[(0, 0), (0, 1), (0, 2), (0, 3), (0, 4), (0, -1), (0, -5), (0, -4), (0, -3), (0, -2), (1, 0), (1, 1), (1, 2), (1, 3), (1, 4), (1, -1), (1, -5), (1, -4), (1, -3), (1, -2), (-2, 0), (-2, 1), (-2, 2), (-2, 3), (-2, 4), (-2, -1), (-2, -5), (-2, -4), (-2, -3), (-2, -2), (-1, 0), (-1, 1), (-1, 2), (-1, 3), (-1, 4), (-1, -1), (-1, -5), (-1, -4), (-1, -3), (-1, -2)]\n",
      "\n",
      "Subset that complies with R: [(0, 0), (1, 1), (-2, 4), (-1, 1)]\n",
      "\n",
      "Is R a function? True -- Please verify and explain why ?\n",
      "\n",
      "Is R one-to-one? False -- Please verify and explain why ?\n",
      "\n",
      "Is R onto? False -- Please verify and explain why ?\n",
      "\n",
      "Is R a one-to-one correspondence? False -- Please verify and explain why ?\n",
      "\n",
      "Domain: {0, 1, -2, -1}\n",
      "Codomain: {0, 1, 2, 3, 4, -1, -5, -4, -3, -2}\n",
      "Range: {0, 1, 4}\n"
     ]
    }
   ],
   "source": [
    "def cartesian_product(X, Y):\n",
    "    return [(x, y) for x in X for y in Y]\n",
    "\n",
    "def relation_R(x, y):\n",
    "    return y == x**2  # Modified relation\n",
    "\n",
    "# Define sets X and Y\n",
    "X = set(range(-3, 4))  # Modified domain: {-3, -2, -1, 0, 1, 2, 3}\n",
    "Y = set(range(10))     # Modified codomain: {0, 1, 2, 3, 4, 5, 6, 7, 8, 9}\n",
    "\n",
    "# Rest of the code remains the same\n",
    "\n",
    "def subset_complying_with_relation(cartesian_prod):\n",
    "    return [(x, y) for (x, y) in cartesian_prod if relation_R(x, y)]\n",
    "\n",
    "def is_function(subset_R, X):\n",
    "    return len(set(x for (x, y) in subset_R)) == len(X)\n",
    "\n",
    "def is_one_to_one(subset_R, X):\n",
    "    if not is_function(subset_R, X):\n",
    "        return False\n",
    "    y_values = [y for (x, y) in subset_R]\n",
    "    return len(y_values) == len(set(y_values))\n",
    "\n",
    "def is_onto(subset_R, X, Y):\n",
    "    if not is_function(subset_R, X):\n",
    "        return False\n",
    "    y_values_in_R = set(y for (x, y) in subset_R)\n",
    "    return y_values_in_R == Y\n",
    "\n",
    "def is_bijection(subset_R, X, Y):\n",
    "    return is_function(subset_R, X) and is_one_to_one(subset_R, X) and is_onto(subset_R, X, Y)\n",
    "\n",
    "def print_sets_info(X, Y, subset_R):\n",
    "    domain = X\n",
    "    codomain = Y\n",
    "    range_R = set(y for (x, y) in subset_R)\n",
    "    \n",
    "    print(f\"Domain: {domain}\")\n",
    "    print(f\"Codomain: {codomain}\")\n",
    "    print(f\"Range: {range_R}\")\n",
    "\n",
    "# Define sets X and Y\n",
    "#X = {1, 2, 3}                ## PLEASE MODIFY THE SET\n",
    "#Y = {4, 5, 6}                ## PLEASE MODIFY THE SET\n",
    "X = set(range(-2,2))          ## Example - PLEASE MODIFY THE SET\n",
    "Y = set(range(-5,5))          ## Example - PLEASE MODIFY THE SET\n",
    "\n",
    "# Compute the Cartesian product and the subset that complies with R\n",
    "cartesian_prod = cartesian_product(X, Y)\n",
    "subset_R = subset_complying_with_relation(cartesian_prod)\n",
    "\n",
    "# Perform tests\n",
    "function_test = is_function(subset_R, X)\n",
    "one_to_one_test = is_one_to_one(subset_R, X)\n",
    "onto_test = is_onto(subset_R, X, Y)\n",
    "bijection_test = is_bijection(subset_R, X, Y)\n",
    "\n",
    "# Output results\n",
    "print(f\"Cartesian Product:\\n{cartesian_prod}\\n\")\n",
    "print(f\"Subset that complies with R: {subset_R}\\n\")\n",
    "print(f\"Is R a function? {function_test} -- Please verify and explain why ?\\n\")\n",
    "print(f\"Is R one-to-one? {one_to_one_test} -- Please verify and explain why ?\\n\")\n",
    "print(f\"Is R onto? {onto_test} -- Please verify and explain why ?\\n\")\n",
    "print(f\"Is R a one-to-one correspondence? {bijection_test} -- Please verify and explain why ?\\n\")\n",
    "\n",
    "# Print sets information\n",
    "print_sets_info(X, Y, subset_R)\n",
    "\n"
   ]
  },
  {
   "cell_type": "code",
   "execution_count": null,
   "id": "f1e8c67a-d004-45ca-a0d1-dd2655a2858d",
   "metadata": {},
   "outputs": [],
   "source": []
  }
 ],
 "metadata": {
  "kernelspec": {
   "display_name": "Python 3 (ipykernel)",
   "language": "python",
   "name": "python3"
  },
  "language_info": {
   "codemirror_mode": {
    "name": "ipython",
    "version": 3
   },
   "file_extension": ".py",
   "mimetype": "text/x-python",
   "name": "python",
   "nbconvert_exporter": "python",
   "pygments_lexer": "ipython3",
   "version": "3.11.7"
  }
 },
 "nbformat": 4,
 "nbformat_minor": 5
}

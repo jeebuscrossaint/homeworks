{
 "cells": [
  {
   "cell_type": "markdown",
   "id": "9f0a95fe-a344-4f0b-9ebe-fd0571117f89",
   "metadata": {},
   "source": [
    "# 1. Logical functions and laws using conditionals\n",
    "TASK: Read and modify code acordingly"
   ]
  },
  {
   "cell_type": "code",
   "execution_count": 2,
   "id": "ec4b40b3-b0e6-4c7c-bfa3-4562cdbaf28a",
   "metadata": {},
   "outputs": [
    {
     "name": "stdout",
     "output_type": "stream",
     "text": [
      "p \tq \tr \tp ∨ q \t(p ∨ q) → r \tp → r \tq → r \t\t(p → r) ∧ (q → r)\n",
      "------------------------------------------------------------------------------------------\n",
      "True \tTrue \tTrue \tTrue \tTrue \t\tTrue \tTrue \t\tTrue\n",
      "True \tTrue \tFalse \tTrue \tFalse \t\tFalse \tFalse \t\tFalse\n",
      "True \tFalse \tTrue \tTrue \tTrue \t\tTrue \tTrue \t\tTrue\n",
      "True \tFalse \tFalse \tTrue \tFalse \t\tFalse \tTrue \t\tFalse\n",
      "False \tTrue \tTrue \tTrue \tTrue \t\tTrue \tTrue \t\tTrue\n",
      "False \tTrue \tFalse \tTrue \tFalse \t\tTrue \tFalse \t\tFalse\n",
      "False \tFalse \tTrue \tFalse \tTrue \t\tTrue \tTrue \t\tTrue\n",
      "False \tFalse \tFalse \tFalse \tTrue \t\tTrue \tTrue \t\tTrue\n"
     ]
    }
   ],
   "source": [
    "def truthTable():\n",
    "    # Logical functions\n",
    "    def implies(p, q):\n",
    "        return not p or q\n",
    "\n",
    "    # Columns\n",
    "    col1 = 'p'\n",
    "    col2 = 'q'\n",
    "    col3 = 'r'\n",
    "    col4 = 'p ∨ q'\n",
    "    col5 = '(p ∨ q) → r'\n",
    "    col6 = 'p → r'\n",
    "    col7 = 'q → r'\n",
    "    col8 = '(p → r) ∧ (q → r)'\n",
    "\n",
    "    print(f'{col1} \\t{col2} \\t{col3} \\t{col4} \\t{col5} \\t{col6} \\t{col7} \\t\\t{col8}')\n",
    "    print('-'*90)\n",
    "\n",
    "    # Iteration of proposition values\n",
    "    for p in [True, False]:\n",
    "        for q in [True, False]:\n",
    "            for r in [True, False]:\n",
    "                # Columns\n",
    "                col1 = p\n",
    "                col2 = q\n",
    "                col3 = r\n",
    "                col4 = p or q\n",
    "                col5 = implies((p or q), r)\n",
    "                col6 = implies(p, r)\n",
    "                col7 = implies(q, r)\n",
    "                col8 = (implies(p, r) and implies(q, r))\n",
    "\n",
    "                print(f'{col1} \\t{col2} \\t{col3} \\t{col4} \\t{col5} \\t\\t{col6} \\t{col7} \\t\\t{col8}')\n",
    "\n",
    "truthTable()\n"
   ]
  },
  {
   "cell_type": "markdown",
   "id": "e0179427-dd39-4375-9e1e-7910a96170be",
   "metadata": {},
   "source": [
    "## 2. Testing each logic function"
   ]
  },
  {
   "cell_type": "code",
   "execution_count": 62,
   "id": "33e65344-3489-4cfb-9195-4600b64667e6",
   "metadata": {},
   "outputs": [
    {
     "name": "stdout",
     "output_type": "stream",
     "text": [
      "True\n",
      "True\n"
     ]
    }
   ],
   "source": [
    "# Define values for p and q\n",
    "p = True\n",
    "q = True\n",
    "\n",
    "# Test each logical function\n",
    "print(\"Testing logical functions:\")\n",
    "print(\"Implies:\", implies(p, q))\n",
    "print(\"Contrapositive:\", contrapositive(p, q))\n",
    "print(\"Converse:\", converse(p, q))\n",
    "print(\"Inverse:\", inverse(p, q))\n",
    "print(\"Biconditional:\", biconditional(p, q))\n",
    "print(\"XOR:\", xor(p, q))\n",
    "\n",
    "# Test each logical equivalence\n",
    "print(\"\\nTesting logical equivalences:\")\n",
    "print(\"Distributive:\", distributive(p, q, True))\n",
    "print(\"Exportation:\", exportation(p, q, True))\n",
    "print(\"Reduction:\", reduction(p, q))\n",
    "print(\"Equivalence:\", equivalence(p, q))\n"
   ]
  },
  {
   "cell_type": "markdown",
   "id": "cc872434-fec1-4081-baba-6f3254733c46",
   "metadata": {},
   "source": [
    "## 3. Compound statements using conditionals in English"
   ]
  },
  {
   "cell_type": "code",
   "execution_count": 3,
   "id": "eda345e0-9dc5-485a-baf8-a1e5a60385b0",
   "metadata": {},
   "outputs": [
    {
     "name": "stdout",
     "output_type": "stream",
     "text": [
      "Original Proposition:  If it rains, then the ground is wet.\n",
      "Inverse:  If it does not rain, then the ground is not wet.\n",
      "Converse:  If the ground is wet, then it rains.\n",
      "Contrapositive:  If the ground is not wet, then it does not rain.\n"
     ]
    }
   ],
   "source": [
    "def proposition_to_string(p, q):\n",
    "    prop = f\"If {p}, then {q}.\"   \n",
    "    return prop\n",
    "\n",
    "def main():\n",
    "    # Original statements\n",
    "    p = \"it rains\"\n",
    "    q = \"the ground is wet\"\n",
    "    print(\"Original Proposition: \", proposition_to_string(p, q))\n",
    "\n",
    "    # Inverse\n",
    "    p_inv = \"it does not rain\"\n",
    "    q_inv = \"the ground is not wet\"\n",
    "    print(\"Inverse: \", proposition_to_string(p_inv, q_inv))\n",
    "\n",
    "    # Converse\n",
    "    print(\"Converse: \", proposition_to_string(q, p))\n",
    "\n",
    "    # Contrapositive\n",
    "    print(\"Contrapositive: \", proposition_to_string(q_inv, p_inv))\n",
    "\n",
    "main()\n"
   ]
  },
  {
   "cell_type": "markdown",
   "id": "8a26f022-4176-4dc0-bfdf-812136ce9e69",
   "metadata": {},
   "source": [
    "## 4. Solve some of the true tables on step 1 by hand"
   ]
  },
  {
   "cell_type": "code",
   "execution_count": null,
   "id": "815290b5-d884-4f29-90e2-6db63f9bbcbb",
   "metadata": {},
   "outputs": [],
   "source": [
    "p       q       r       p ∨ q   (p ∨ q) → r   p → r   q → r   (p → r) ∧ (q → r)\n",
    "-------------------------------------------------------------------------------\n",
    "True    True    True     True       True       True    True          True\n",
    "True    True    False    True       False      False   False         False\n",
    "True    False   True     True       True       True    True          True\n",
    "True    False   False    True       False      False   True          False\n",
    "False   True    True     True       True       True    True          True\n",
    "False   True    False    True       False      True    False         False\n",
    "False   False   True     False      True       True    True          True\n",
    "False   False   False    False      True       True    True          True\n"
   ]
  }
 ],
 "metadata": {
  "kernelspec": {
   "display_name": "Python 3 (ipykernel)",
   "language": "python",
   "name": "python3"
  },
  "language_info": {
   "codemirror_mode": {
    "name": "ipython",
    "version": 3
   },
   "file_extension": ".py",
   "mimetype": "text/x-python",
   "name": "python",
   "nbconvert_exporter": "python",
   "pygments_lexer": "ipython3",
   "version": "3.11.7"
  }
 },
 "nbformat": 4,
 "nbformat_minor": 5
}
